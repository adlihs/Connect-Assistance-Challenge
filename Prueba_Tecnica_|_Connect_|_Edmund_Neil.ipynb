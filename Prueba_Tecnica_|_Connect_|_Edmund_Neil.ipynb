{
  "nbformat": 4,
  "nbformat_minor": 0,
  "metadata": {
    "colab": {
      "provenance": [],
      "authorship_tag": "ABX9TyNHus3U4m4uJnHudRaUREQw",
      "include_colab_link": true
    },
    "kernelspec": {
      "name": "python3",
      "display_name": "Python 3"
    },
    "language_info": {
      "name": "python"
    }
  },
  "cells": [
    {
      "cell_type": "markdown",
      "metadata": {
        "id": "view-in-github",
        "colab_type": "text"
      },
      "source": [
        "<a href=\"https://colab.research.google.com/github/adlihs/Connect-Assistance-Challenge/blob/main/Prueba_Tecnica_%7C_Connect_%7C_Edmund_Neil.ipynb\" target=\"_parent\"><img src=\"https://colab.research.google.com/assets/colab-badge.svg\" alt=\"Open In Colab\"/></a>"
      ]
    },
    {
      "cell_type": "markdown",
      "source": [
        "# Challenge 1\n",
        "\n",
        "Ud es un Data Analyst Sr. en Connect Assistance y está asignado a un importante proyecto corporativo. Para lo que va necesitar crear un PoC que resuelva los siguientes requerimientos:\n",
        "\n",
        "Mover la data histórica de los archivos CSV a una nueva BDD.\n",
        "Publicar el proyecto y código en Github (Se tendrá en cuenta si se realizan actualizaciones frecuentes realizadas al repositorio que permiten analizar el proceso de desarrollo.)\n",
        "Se adjuntan tres (3) archivos que son los que se deben cargar en dicha BDD, para la posterior exploración.\n",
        "Ud decide que motor de BDD utilizar, se recomienda usar cloud tools sobre local tools. Pero debe ser sobre SQL DB.\n",
        "Si se tiene duda con algún punto puede pedir que le despejen la duda, también si requiere acceso al drive para los archivos pedirlo, en caso de no tener cuenta gmail se le adjuntará al email.\n",
        "**Los puntos de carga de datos a BDD son opcionales, se puede trabajar el análisis y depuración de los datos directo de las hojas de cálculo adjuntas.\n",
        "\n",
        "CSV estructuras.\n"
      ],
      "metadata": {
        "id": "K9CGibAtqlj5"
      }
    },
    {
      "cell_type": "markdown",
      "source": [
        "## Creacion de de base de datos y tablas en SQLite"
      ],
      "metadata": {
        "id": "vVGpd37FrL8Q"
      }
    },
    {
      "cell_type": "code",
      "execution_count": 4,
      "metadata": {
        "id": "yMJsOAphqR6a"
      },
      "outputs": [],
      "source": [
        "# Importamos librerias\n",
        "\n",
        "import sqlite3\n",
        "import pandas as pd\n"
      ]
    },
    {
      "cell_type": "code",
      "source": [
        "# Conectar a la base de datos (o crearla si no existe)\n",
        "conn = sqlite3.connect('challenge.db')\n",
        "\n",
        "# Crear una tabla llamada \"Hired_employees\"\n",
        "conn.execute('''CREATE TABLE Hired_employees\n",
        "             (id INTEGER PRIMARY KEY,\n",
        "             name TEXT,\n",
        "             datetime date,\n",
        "             department_id INTEGER,\n",
        "             job_id INTEGER);''')\n",
        "\n",
        "\n",
        "# Crear una tabla llamada \"departments\"\n",
        "conn.execute('''CREATE TABLE departments\n",
        "             (department_id INTEGER PRIMARY KEY,\n",
        "             department TEXT);''')\n",
        "\n",
        "\n",
        "\n",
        "# Crear una tabla llamada \"jobs\"\n",
        "conn.execute('''CREATE TABLE jobs\n",
        "             (job_id INTEGER PRIMARY KEY,\n",
        "             job TEXT);''')\n",
        "\n",
        "\n",
        "\n"
      ],
      "metadata": {
        "colab": {
          "base_uri": "https://localhost:8080/"
        },
        "id": "2BFxIXqWrXIs",
        "outputId": "5e413ea7-62fb-4147-dbb0-4d9b25c57964"
      },
      "execution_count": 5,
      "outputs": [
        {
          "output_type": "execute_result",
          "data": {
            "text/plain": [
              "<sqlite3.Cursor at 0x7f2588081500>"
            ]
          },
          "metadata": {},
          "execution_count": 5
        }
      ]
    },
    {
      "cell_type": "markdown",
      "source": [
        "## Importacion de archivos csv\n",
        "Se importaran los archivos csv a dataframes de Pandas, ya que pandas facilita la interaccion con las tablas en SQLite\n",
        "\n",
        "`Nota:` Se suben a google colab los archivos csv, desde ahi se procederan a leerlos"
      ],
      "metadata": {
        "id": "YtEz5DBhxP22"
      }
    },
    {
      "cell_type": "code",
      "source": [
        "# Se importa la informacion de los archivos csv a dataframes de pandas\n",
        "jobs_df = pd.read_csv('/content/jobs.csv',header=None)\n",
        "departments_df = pd.read_csv('/content/departments.csv', header=None)\n",
        "hired_employees_df = pd.read_csv('/content/hired_employees.csv', header=None)\n"
      ],
      "metadata": {
        "id": "yGY-cLEPxsN1"
      },
      "execution_count": 6,
      "outputs": []
    },
    {
      "cell_type": "code",
      "source": [
        "# renombramos adecuadamente las columnas de los dataframes para que pueden ser identicas que al de las tablas\n",
        "jobs_df = jobs_df.rename(columns={0: 'job_id',1:'job'})\n",
        "departments_df = departments_df.rename(columns={0: 'department_id',1:'department'})\n",
        "hired_employees_df = hired_employees_df.rename(columns={0: 'id',1:'name',2:'datetime',3:'department_id',4:'job_id'})\n"
      ],
      "metadata": {
        "id": "AiR34lGK2a03"
      },
      "execution_count": 7,
      "outputs": []
    },
    {
      "cell_type": "markdown",
      "source": [
        "### `Nota:` Se revisan los datos del archivo Hired_employees.csv y se identifcan datos faltantes en las columnas de varias filas. Dichas filas no seran tomadas en cuenta. Se van a trabajar unicamente con informacion completa con el fin de proveer data correcta. Por ejemplo hay filas que no tienen informacion en la columna *department_id*, esta columna servira de llave foranea para la tabla *departments*, sin ese dato no se podra hacer una correcta relacion entre las tablas."
      ],
      "metadata": {
        "id": "rzrGTTLd-CKY"
      }
    },
    {
      "cell_type": "code",
      "source": [
        "jobs_df = jobs_df.dropna()\n",
        "departments_df = departments_df.dropna()\n",
        "hired_employees_df = hired_employees_df.dropna()\n",
        "\n",
        "jobs_df.to_csv('jobs.csv', index=False)\n",
        "departments_df.to_csv('departments.csv', index=False)\n",
        "hired_employees_df.to_csv('hired_employees.csv', index=False)"
      ],
      "metadata": {
        "id": "PSbDHyAl_IzN"
      },
      "execution_count": 8,
      "outputs": []
    },
    {
      "cell_type": "markdown",
      "source": [
        "## Mover la data historica de archivos CSV a Base de datos (challenge.db)"
      ],
      "metadata": {
        "id": "KPoP3N-ozLm5"
      }
    },
    {
      "cell_type": "code",
      "source": [
        "# Insertar los datos del dataframe en la tabla 'jobs'\n",
        "jobs_df.to_sql('jobs', conn, if_exists='append', index=False)"
      ],
      "metadata": {
        "colab": {
          "base_uri": "https://localhost:8080/"
        },
        "id": "watypCo7zXdO",
        "outputId": "bda14932-7bc0-4a8e-ea24-3c4b7a7b82af"
      },
      "execution_count": 9,
      "outputs": [
        {
          "output_type": "execute_result",
          "data": {
            "text/plain": [
              "183"
            ]
          },
          "metadata": {},
          "execution_count": 9
        }
      ]
    },
    {
      "cell_type": "code",
      "source": [
        "# Insertar los datos del dataframe en la tabla 'departmens'\n",
        "departments_df.to_sql('departments', conn, if_exists='append', index=False)"
      ],
      "metadata": {
        "colab": {
          "base_uri": "https://localhost:8080/"
        },
        "id": "kZGmmpMbz2Wn",
        "outputId": "aa00fcaf-ddc4-4112-eedc-bc9906f91b44"
      },
      "execution_count": 10,
      "outputs": [
        {
          "output_type": "execute_result",
          "data": {
            "text/plain": [
              "12"
            ]
          },
          "metadata": {},
          "execution_count": 10
        }
      ]
    },
    {
      "cell_type": "code",
      "source": [
        "# Insertar los datos del dataframe en la tabla 'Hired_employees'\n",
        "hired_employees_df.to_sql('Hired_employees', conn, if_exists='append', index=False)"
      ],
      "metadata": {
        "colab": {
          "base_uri": "https://localhost:8080/"
        },
        "id": "f_cnBmD95FAM",
        "outputId": "e2a7622a-2cf2-4d8e-ae6d-12fae637288d"
      },
      "execution_count": 11,
      "outputs": [
        {
          "output_type": "execute_result",
          "data": {
            "text/plain": [
              "1929"
            ]
          },
          "metadata": {},
          "execution_count": 11
        }
      ]
    },
    {
      "cell_type": "markdown",
      "source": [
        "## Validacion de registros insertados en tablas"
      ],
      "metadata": {
        "id": "sntNiMO15j9Z"
      }
    },
    {
      "cell_type": "markdown",
      "source": [
        "### Tabla `jobs`"
      ],
      "metadata": {
        "id": "ZX0UtFNX6k4l"
      }
    },
    {
      "cell_type": "code",
      "source": [
        "# SELECT para validar registros en tabla 'jobs'\n",
        "\n",
        "# Ejecutar el SELECT TOP 10 * FROM\n",
        "jobs_res = conn.execute(\"SELECT * FROM jobs LIMIT 10\")\n",
        "\n",
        "# Obtener los resultados\n",
        "results = jobs_res.fetchall()\n",
        "\n",
        "# Imprimir los resultados\n",
        "for row in results:\n",
        "    print(row)\n",
        "\n"
      ],
      "metadata": {
        "colab": {
          "base_uri": "https://localhost:8080/"
        },
        "id": "vcctn19J52HD",
        "outputId": "44bffbb2-6a0c-4a50-e446-7358d171664f"
      },
      "execution_count": 12,
      "outputs": [
        {
          "output_type": "stream",
          "name": "stdout",
          "text": [
            "(1, 'Marketing Assistant')\n",
            "(2, 'VP Sales')\n",
            "(3, 'Biostatistician IV')\n",
            "(4, 'Account Representative II')\n",
            "(5, 'VP Marketing')\n",
            "(6, 'Environmental Specialist')\n",
            "(7, 'Software Consultant')\n",
            "(8, 'Office Assistant III')\n",
            "(9, 'Information Systems Manager')\n",
            "(10, 'Desktop Support Technician')\n"
          ]
        }
      ]
    },
    {
      "cell_type": "markdown",
      "source": [
        "### Tabla `departments`"
      ],
      "metadata": {
        "id": "EYKsERis6oJf"
      }
    },
    {
      "cell_type": "code",
      "source": [
        "# SELECT para validar registros en tabla 'departments'\n",
        "\n",
        "# Ejecutar el SELECT TOP 10 * FROM\n",
        "departments_res = conn.execute(\"SELECT * FROM departments LIMIT 10\")\n",
        "\n",
        "# Obtener los resultados\n",
        "results = departments_res.fetchall()\n",
        "\n",
        "# Imprimir los resultados\n",
        "for row in results:\n",
        "    print(row)\n",
        "\n"
      ],
      "metadata": {
        "colab": {
          "base_uri": "https://localhost:8080/"
        },
        "id": "9-K0vxEE6sSX",
        "outputId": "0e755b43-04aa-4484-b695-f3b8cbaa8df3"
      },
      "execution_count": 13,
      "outputs": [
        {
          "output_type": "stream",
          "name": "stdout",
          "text": [
            "(1, 'Product Management')\n",
            "(2, 'Sales')\n",
            "(3, 'Research and Development')\n",
            "(4, 'Business Development')\n",
            "(5, 'Engineering')\n",
            "(6, 'Human Resources')\n",
            "(7, 'Services')\n",
            "(8, 'Support')\n",
            "(9, 'Marketing')\n",
            "(10, 'Training')\n"
          ]
        }
      ]
    },
    {
      "cell_type": "markdown",
      "source": [
        "### Tabla `Hired_employees`"
      ],
      "metadata": {
        "id": "sd6gZdue7hrg"
      }
    },
    {
      "cell_type": "code",
      "source": [
        "# SELECT para validar registros en tabla 'hired_employees'\n",
        "\n",
        "# Ejecutar el SELECT TOP 10 * FROM\n",
        "hired_employees_res = conn.execute(\"SELECT * FROM Hired_employees LIMIT 10 \")\n",
        "\n",
        "# Obtener los resultados\n",
        "results = hired_employees_res.fetchall()\n",
        "\n",
        "# Imprimir los resultados\n",
        "for row in results:\n",
        "    print(row)\n",
        "\n"
      ],
      "metadata": {
        "colab": {
          "base_uri": "https://localhost:8080/"
        },
        "id": "7_HuiOY87o79",
        "outputId": "fc37af65-4aa8-45cd-d597-4e2037c9c5a7"
      },
      "execution_count": 14,
      "outputs": [
        {
          "output_type": "stream",
          "name": "stdout",
          "text": [
            "(1, 'Harold Vogt', '2021-11-07T02:48:42Z', 2, 96)\n",
            "(3, 'Lyman Hadye', '2021-09-01T23:27:38Z', 5, 52)\n",
            "(4, 'Lotti Crowthe', '2021-10-01T13:04:21Z', 12, 71)\n",
            "(5, 'Gretna Lording', '2021-10-10T22:22:17Z', 6, 80)\n",
            "(6, 'Marlow Antecki', '2021-04-23T23:45:42Z', 6, 95)\n",
            "(7, 'Joan Rillett', '2021-10-10T01:33:31Z', 9, 78)\n",
            "(8, 'Ulrick Nucciotti', '2021-07-24T01:28:40Z', 8, 169)\n",
            "(9, 'Lucretia Northcote', '2021-04-01T21:22:47Z', 9, 8)\n",
            "(10, 'Arty Giacobo', '2022-02-08T12:27:07Z', 6, 62)\n",
            "(11, 'Libbi Dowtry', '2021-07-05T04:55:10Z', 6, 41)\n"
          ]
        }
      ]
    },
    {
      "cell_type": "markdown",
      "source": [
        "## `Tablas` en la base de datos `challenge.db`"
      ],
      "metadata": {
        "id": "H8fnz_PoAk5x"
      }
    },
    {
      "cell_type": "code",
      "source": [
        "# Obtener la información de las tablas y sus campos\n",
        "cursor = conn.execute(\"SELECT name, sql FROM sqlite_master WHERE type='table'\")\n",
        "\n",
        "# Imprimir la información de las tablas y sus campos\n",
        "for name, sql in cursor.fetchall():\n",
        "    print(name)\n",
        "    print('-' * 20)\n",
        "    print(sql)\n",
        "    print('\\n')"
      ],
      "metadata": {
        "colab": {
          "base_uri": "https://localhost:8080/"
        },
        "id": "fcvz_fYNAO_0",
        "outputId": "056aa224-b11c-4a01-9ee5-069b792989b9"
      },
      "execution_count": 15,
      "outputs": [
        {
          "output_type": "stream",
          "name": "stdout",
          "text": [
            "Hired_employees\n",
            "--------------------\n",
            "CREATE TABLE Hired_employees\n",
            "             (id INTEGER PRIMARY KEY,\n",
            "             name TEXT,\n",
            "             datetime date,\n",
            "             department_id INTEGER,\n",
            "             job_id INTEGER)\n",
            "\n",
            "\n",
            "departments\n",
            "--------------------\n",
            "CREATE TABLE departments\n",
            "             (department_id INTEGER PRIMARY KEY,\n",
            "             department TEXT)\n",
            "\n",
            "\n",
            "jobs\n",
            "--------------------\n",
            "CREATE TABLE jobs\n",
            "             (job_id INTEGER PRIMARY KEY,\n",
            "             job TEXT)\n",
            "\n",
            "\n"
          ]
        }
      ]
    }
  ]
}